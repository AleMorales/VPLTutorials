{
 "cells": [
  {
   "cell_type": "markdown",
   "metadata": {},
   "source": [
    "# Forest of binary trees\n",
    "Alejandro Morales Sierra\n",
    "Centre for Crop Systems Analysis - Wageningen University"
   ]
  },
  {
   "cell_type": "markdown",
   "metadata": {},
   "source": [
    "In this example we extend the binary tree example into a random binary forest, where\n",
    "each tree is described by a separate graph object and parameters driving the\n",
    "growth of these trees vary across individuals following a predefined distribution.\n",
    "\n",
    "The data types, rendering methods and growth rules are the same as in the binary\n",
    "tree example:"
   ]
  },
  {
   "cell_type": "code",
   "execution_count": null,
   "metadata": {},
   "outputs": [],
   "source": [
    "using VPL\n",
    "\n",
    "module rbtree\n",
    "    import VPL\n",
    "    # Meristem\n",
    "    struct Meristem <: VPL.Node end\n",
    "    # Node\n",
    "    struct Node <: VPL.Node end\n",
    "    # Internode\n",
    "    mutable struct Internode <: VPL.Node\n",
    "        length::Float64\n",
    "    end\n",
    "    struct treeparams\n",
    "        growth::Float64\n",
    "    end\n",
    "end\n",
    "\n",
    "function VPL.feed!(turtle::Turtle, i::rbtree.Internode, vars)\n",
    "    HollowCube!(turtle, length = i.length, height =  min(i.length/10, 0.3), \n",
    "                        width =  min(i.length/10, 0.3), move = true, \n",
    "                        color = RGB(0,1,0))\n",
    "    return nothing\n",
    "end\n",
    "\n",
    "rule = Rule(rbtree.Meristem, rhs = mer -> rbtree.Node() + \n",
    "                                         (RU(-60.0) + rbtree.Internode(0.1) + RH(90.0) + rbtree.Meristem(), \n",
    "                                          RU(60.0)  + rbtree.Internode(0.1) + RH(90.0) + rbtree.Meristem()))"
   ]
  },
  {
   "cell_type": "markdown",
   "metadata": {},
   "source": [
    "The main difference with respect to the binary tree is that the  `growth` parameter\n",
    " will differ across individuals. Also, the starting\n",
    "point of the turtle will differ per individual. To achieve this we need to:\n",
    "\n",
    "(i) Add an additional initial node that moves the turtle to the starting position\n",
    "of each binary tree.\n",
    "\n",
    "(ii) Wrap the axiom rule and the creation of the graph into a function that takes\n",
    "the required parameters as inputs."
   ]
  },
  {
   "cell_type": "code",
   "execution_count": null,
   "metadata": {},
   "outputs": [],
   "source": [
    "function create_tree(origin, growth)\n",
    "    axiom = T(origin) + rbtree.Internode(0.1) + rbtree.Meristem()\n",
    "    tree = Graph(axiom = axiom, rules = Tuple(rule), vars = rbtree.treeparams(growth))\n",
    "    return tree\n",
    "end"
   ]
  },
  {
   "cell_type": "markdown",
   "metadata": {},
   "source": [
    "The code for elongating the internodes to simulate growth remains the same as for\n",
    "the binary tree example"
   ]
  },
  {
   "cell_type": "code",
   "execution_count": null,
   "metadata": {},
   "outputs": [],
   "source": [
    "getInternode = Query(rbtree.Internode)\n",
    "\n",
    "function elongate!(tree, query)\n",
    "    for x in apply(tree, query)\n",
    "        x.length = x.length*(1.0 + vars(tree).growth)\n",
    "    end\n",
    "end\n",
    "\n",
    "function growth!(tree, query)\n",
    "    elongate!(tree, query)\n",
    "    rewrite!(tree)\n",
    "end\n",
    "\n",
    "function simulate(tree, query, nsteps)\n",
    "    new_tree = deepcopy(tree)\n",
    "    for i in 1:nsteps\n",
    "        growth!(new_tree, query)\n",
    "    end\n",
    "    return new_tree\n",
    "end"
   ]
  },
  {
   "cell_type": "markdown",
   "metadata": {},
   "source": [
    "Let's simulate a forest of 10 x 10 binary trees with a distance between (and within) rows\n",
    "of 2 meters. First we generate the original\n",
    "positions of the trees. For the position we just need to pass a `Vec` object with the\n",
    "x, y, and z coordinates of the location of each tree. The code below will generate \n",
    "a matrix with the coordinates:"
   ]
  },
  {
   "cell_type": "code",
   "execution_count": null,
   "metadata": {},
   "outputs": [],
   "source": [
    "origins = [Vec(i,j,0) for i = 1:2.0:20.0, j = 1:2.0:20.0];"
   ]
  },
  {
   "cell_type": "markdown",
   "metadata": {},
   "source": [
    "We now simulate the values of the `growth` parameter, by sampling values for a normal\n",
    "distribution (in practice you would determine this distribution from experiments). \n",
    "We can implement a function that returns random values with the desired characteristics but\n",
    "take into account that `randn` implements the standard Normal distribution (so mean = 0 and \n",
    "standard deviation = 1) so we need to scale it"
   ]
  },
  {
   "cell_type": "code",
   "execution_count": null,
   "metadata": {},
   "outputs": [],
   "source": [
    "growth_distr(n) = 0.5 .+ randn(n)./10"
   ]
  },
  {
   "cell_type": "markdown",
   "metadata": {},
   "source": [
    "You may also use the Distributions Julia package (you will need to install it first) that allows to\n",
    "construct different distributions and sample from them. For now, let's work with this ad-hoc function\n",
    "but before we use it to generate the growth parameters of the different trees, let's visualize it\n",
    "using the Plots package (as before, you need to install it first if you have not done so already):"
   ]
  },
  {
   "cell_type": "code",
   "execution_count": null,
   "metadata": {},
   "outputs": [],
   "source": [
    "using Plots\n",
    "histogram(growth_distr(10_000))"
   ]
  },
  {
   "cell_type": "markdown",
   "metadata": {},
   "source": [
    "So our trees will have, on average, a relative growth rate of 0.5 (like in the binary tree example) but\n",
    "each individual tree can have any value, mostly between 0.2 and 0.8. Let's generate the growth parameters\n",
    "for the 100 trees in our simulation:"
   ]
  },
  {
   "cell_type": "code",
   "execution_count": null,
   "metadata": {},
   "outputs": [],
   "source": [
    "growths = growth_distr(100);"
   ]
  },
  {
   "cell_type": "markdown",
   "metadata": {},
   "source": [
    "Now we can create our random forest of binary trees by calling the `create_tree` function we defined earlier\n",
    "with the correct origins and growth parameter"
   ]
  },
  {
   "cell_type": "code",
   "execution_count": null,
   "metadata": {},
   "outputs": [],
   "source": [
    "forest = [create_tree(origins[i], growths[i]) for i in 1:100];"
   ]
  },
  {
   "cell_type": "markdown",
   "metadata": {},
   "source": [
    "The object `forest` contains an array of binary trees. Each tree is a different Graph, with\n",
    "its own nodes, rewriting rules and variables. This avoids having to create a large graphs to\n",
    "include all the plants in a simulation. Below we will run a simulation, first using a sequential\n",
    "approach (i.e. using one core) and then using multiple cores in our computers (please check\n",
    "https://docs.julialang.org/en/v1/manual/multi-threading/ if the different cores are not being used\n",
    "as you may need to change some settings in your computer).\n",
    "\n",
    "## Sequential simulation\n",
    "\n",
    "We can simulate the growth of each tree by applying the method `simulate` to each\n",
    "tree, creating a new version of the forest (the code below is an array comprehension)"
   ]
  },
  {
   "cell_type": "code",
   "execution_count": null,
   "metadata": {},
   "outputs": [],
   "source": [
    "newforest = [simulate(tree, getInternode, 2) for tree in forest];"
   ]
  },
  {
   "cell_type": "markdown",
   "metadata": {},
   "source": [
    "And we can render the forest with the function `render` as in the binary tree\n",
    "example but passing the whole forest at once"
   ]
  },
  {
   "cell_type": "code",
   "execution_count": null,
   "metadata": {},
   "outputs": [],
   "source": [
    "render(newforest, backend = \"web\")"
   ]
  },
  {
   "cell_type": "markdown",
   "metadata": {},
   "source": [
    "If we iterate 4 more iterations we will start seeing the different individuals\n",
    "diverging in size due to the differences in growth rates"
   ]
  },
  {
   "cell_type": "code",
   "execution_count": null,
   "metadata": {},
   "outputs": [],
   "source": [
    "newforest = [simulate(tree, getInternode, 4) for tree in newforest];\n",
    "render(newforest, backend = \"web\")"
   ]
  },
  {
   "cell_type": "markdown",
   "metadata": {},
   "source": [
    "## Multithreaded simulation\n",
    "\n",
    "In the previous section, the simulation of growth was done sequentially, one tree\n",
    "after another (since the growth of a tree only depends on its own parameters). However,\n",
    "this can also be executed in multiple threads. In this case we use an explicit loop \n",
    "and execute the iterations of the loop in multiple threads using the macro `@threads`.\n",
    "Note that the rendering function can also be ran in parallel (i.e. the geometry will be\n",
    "generated separately for each plant and the merge together):"
   ]
  },
  {
   "cell_type": "code",
   "execution_count": null,
   "metadata": {},
   "outputs": [],
   "source": [
    "using Base.Threads\n",
    "newforest = deepcopy(forest)\n",
    "@threads for i in 1:length(forest)\n",
    "    newforest[i] = simulate(forest[i], getInternode, 6)\n",
    "end\n",
    "render(newforest, parallel = true, backend = \"web\")"
   ]
  },
  {
   "cell_type": "markdown",
   "metadata": {},
   "source": [
    "An alternative way to perform the simulation is to have an outer loop for each timestep and an internal loop over the different trees. Although this approach is not required for this simple model, most FSP models will probably need such a scheme as growth of each individual plant will depend on competition for resources with neighbouring plants. In this case, this approach would look as follows:"
   ]
  },
  {
   "cell_type": "code",
   "execution_count": null,
   "metadata": {},
   "outputs": [],
   "source": [
    "newforest = deepcopy(forest)\n",
    "for step in 1:6\n",
    "    @threads for i in 1:length(newforest)\n",
    "        newforest[i] = simulate(newforest[i], getInternode, 1)\n",
    "    end\n",
    "end\n",
    "render(newforest, parallel = true, backend = \"web\")"
   ]
  },
  {
   "cell_type": "markdown",
   "metadata": {},
   "source": [
    "# Customizing the scene\n",
    "\n",
    "Here we are going to customize the scene of our simulation by adding a horizontal tile represting soil and\n",
    "tweaking the 3D representation. When we want to combine plants generated from graphs with any other\n",
    "geometric element it is best to combine all these geometries in a `GLScene` object. We can start the scene\n",
    "with the `newforest` generated in the above:"
   ]
  },
  {
   "cell_type": "code",
   "execution_count": null,
   "metadata": {},
   "outputs": [],
   "source": [
    "scene = Scene(newforest);"
   ]
  },
  {
   "cell_type": "markdown",
   "metadata": {},
   "source": [
    "We can create the soil tile directly, without having to create a graph. The simplest approach is two use \n",
    "a special constructor `Rectangle` where one species a corner of the rectangle and two vectors defining the\n",
    "two sides of the vectors. Both the sides and the corner need to be specified with `Vec` just like in the\n",
    "above when we determined the origin of each plant. VPL offers some shortcuts: `O()` returns the origin\n",
    "(`Vec(0.0, 0.0, 0.0)`), whereas `X`, `Y` and `Z` returns the corresponding axes and you can scale them by \n",
    "passing the desired length as input. Below, a rectangle is created on the XY plane with the origin as a \n",
    "corner and each side being 11 units long:"
   ]
  },
  {
   "cell_type": "code",
   "execution_count": null,
   "metadata": {},
   "outputs": [],
   "source": [
    "soil = Rectangle(length = 21.0, width = 21.0)\n",
    "rotatey!(soil, pi/2)\n",
    "VPL.translate!(soil, Vec(0.0, 10.5, 0.0))"
   ]
  },
  {
   "cell_type": "markdown",
   "metadata": {},
   "source": [
    "We can now add the `soil` to the `scene` object with the `add!` function."
   ]
  },
  {
   "cell_type": "code",
   "execution_count": null,
   "metadata": {},
   "outputs": [],
   "source": [
    "add!(scene, mesh = soil, color = RGB(1,1,0))"
   ]
  },
  {
   "cell_type": "markdown",
   "metadata": {},
   "source": [
    "We can now render the scene that combines the random forest of binary trees and a yellow soil. Notice that\n",
    "in all previous figures, a coordinate system with grids was being depicted. This is helpful for debugging\n",
    "your code but also to help setup the scene (e.g. if you are not sure how big the soil tile should be).\n",
    "Howver, it may be distracting for the visualization. It turns out that we can turn that off with\n",
    "`show_axes = false`:"
   ]
  },
  {
   "cell_type": "code",
   "execution_count": null,
   "metadata": {},
   "outputs": [],
   "source": [
    "render(scene, axes = false, backend = \"web\")"
   ]
  },
  {
   "cell_type": "markdown",
   "metadata": {},
   "source": [
    "We may also want to save a screenshot of the scene. For this, we need to store the output of the `render` function.\n",
    "We can then resize the window rendering the scene, move around, zoom, etc. When we have a perspective that we like,\n",
    "we can run the `save_scene` function on the object returned from `render`. The argument `resolution` can be adjust in both\n",
    "`render` and `save_scene` (the image will have the correct number of pixels but it looks much worse than in the original\n",
    "window...):"
   ]
  },
  {
   "cell_type": "code",
   "execution_count": null,
   "metadata": {},
   "outputs": [],
   "source": [
    "res = calculate_resolution(height = 12, width = 16, dpi = 1000)\n",
    "output = render(scene, axes = false, resolution = res)\n",
    "export_scene(scene = output, filename = \"nice_trees.png\") "
   ]
  }
 ],
 "metadata": {
  "kernelspec": {
   "display_name": "Julia 1.8.5",
   "language": "julia",
   "name": "julia-1.8"
  },
  "language_info": {
   "file_extension": ".jl",
   "mimetype": "application/julia",
   "name": "julia",
   "version": "1.8.5"
  }
 },
 "nbformat": 4,
 "nbformat_minor": 4
}
