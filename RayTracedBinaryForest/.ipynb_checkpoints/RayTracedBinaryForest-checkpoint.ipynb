{
 "cells": [
  {
   "cell_type": "markdown",
   "metadata": {},
   "source": [
    "# Ray-traced forest of binary trees\n",
    "\n",
    "Alejandro Morales Sierra  \n",
    "Centre for Crop Systems Analysis - Wageningen University  \n",
    "16/03/2023"
   ]
  },
  {
   "cell_type": "markdown",
   "metadata": {},
   "source": [
    "In this example we extend the binary forest example to couple growth to light\n",
    "interception, using a simple light model, where each tree is described by a \n",
    "separate graph object and parameters driving the growth of these trees vary \n",
    "across individuals following a predefined distribution. This is not intended\n",
    "an optimal implementation of such a model but rather a demonstration of how to\n",
    "use the ray tracer within VPL in combination with Sky package to simulate light\n",
    "distribution within a scene and retrieved the resulting values on an organ basis.\n",
    "\n",
    "The following packages are needed:"
   ]
  },
  {
   "cell_type": "code",
   "execution_count": null,
   "metadata": {
    "vscode": {
     "languageId": "julia"
    }
   },
   "outputs": [],
   "source": [
    "using VPL\n",
    "using Base.Threads: @threads\n",
    "using Plots\n",
    "import Random\n",
    "using Sky\n",
    "using FastGaussQuadrature"
   ]
  },
  {
   "cell_type": "markdown",
   "metadata": {},
   "source": [
    "The data types needed to simulate the binary trees are given in the following\n",
    "module. The main difference with respect to the previous example is that more\n",
    "information is being stored in the Internode object, including the optical\n",
    "properties as well as biomass. The `treeparams` object stores the total PAR\n",
    "absorbed each day, the total biomass of the tree, the specific internode weight\n",
    "and the radiation use efficiency (RUE)."
   ]
  },
  {
   "cell_type": "code",
   "execution_count": null,
   "metadata": {
    "vscode": {
     "languageId": "julia"
    }
   },
   "outputs": [],
   "source": [
    "module rbtree\n",
    "    using VPL\n",
    "    # Meristem\n",
    "    struct Meristem <: VPL.Node end\n",
    "    # Node\n",
    "    struct Node <: VPL.Node end\n",
    "    # Internode\n",
    "    mutable struct Internode <: VPL.Node\n",
    "        biomass::Float64\n",
    "        length::Float64\n",
    "        width::Float64\n",
    "        material::Lambertian{3} # Optical properties for 3 wavebands\n",
    "    end\n",
    "    # Tree-level variables\n",
    "    mutable struct treeparams\n",
    "        PAR::Float64     # Total PAR intercepted by the tree in a day\n",
    "        RUE::Float64     # Convert absorbed PAR to biomass growth\n",
    "        SIW::Float64     # Specific internode weight\n",
    "        Biomass::Float64 # Current total biomass\n",
    "    end\n",
    "end"
   ]
  },
  {
   "cell_type": "markdown",
   "metadata": {},
   "source": [
    "The methods for creating the geometry and color of the tree are the same as in\n",
    "the previous example with the addition that we also assign a `Material` object\n",
    "to the argument `material` (which is a `Lambertian` object in this case)."
   ]
  },
  {
   "cell_type": "code",
   "execution_count": null,
   "metadata": {
    "vscode": {
     "languageId": "julia"
    }
   },
   "outputs": [],
   "source": [
    "# Turtle methods\n",
    "function VPL.feed!(turtle::Turtle, i::rbtree.Internode, vars)\n",
    "    HollowCube!(turtle, length = i.length, height =  i.width, width =  i.width, \n",
    "                move = true, color = RGB(0,0.35,0), material = i.material)\n",
    "    return nothing\n",
    "end"
   ]
  },
  {
   "cell_type": "markdown",
   "metadata": {},
   "source": [
    "The growth rule is also the same as in the previous example, but now the Internode\n",
    "takes initial biomass and optical properties. The optical properties are stored\n",
    "in a `Lambertian` object, which is a `Material` object that defines the transmittance\n",
    "and reflectance of the material for each waveband to be simulated (in this case three)."
   ]
  },
  {
   "cell_type": "code",
   "execution_count": null,
   "metadata": {
    "vscode": {
     "languageId": "julia"
    }
   },
   "outputs": [],
   "source": [
    "# Create a new material object with the optical properties\n",
    "mat() = Lambertian(τ = (0.0, 0.0, 0.0), # transmittance for blue, green, red\n",
    "                   ρ = (0.05, 0.2, 0.1)) # reflectance for blue, green, red\n",
    "\n",
    "# Create right side of the growth rule (parameterized by initial values of the organ)\n",
    "function create_branching_rule(biomass, length, width)\n",
    "    mer -> begin\n",
    "        # New branches\n",
    "        branch1 = RU(-60.0) + rbtree.Internode(biomass, length, width, mat()) + RH(90.0) + rbtree.Meristem()\n",
    "        branch2 = RU(60.0)  + rbtree.Internode(biomass, length, width, mat()) + RH(90.0) + rbtree.Meristem()\n",
    "        # Sub-graph to be added to the tree\n",
    "        rbtree.Node() + (branch1, branch2)\n",
    "    end\n",
    "end"
   ]
  },
  {
   "cell_type": "markdown",
   "metadata": {},
   "source": [
    "The creation of each individual tree also resembles the previous example"
   ]
  },
  {
   "cell_type": "code",
   "execution_count": null,
   "metadata": {
    "vscode": {
     "languageId": "julia"
    }
   },
   "outputs": [],
   "source": [
    "# Create a tree given the origin and RUE\n",
    "function create_tree(origin, RUE)\n",
    "    SIW    = 1e6 # g/m3 (typical wood density for a hardwood)\n",
    "    length = 0.5 # m\n",
    "    width  = 0.05 # m\n",
    "    biomass = length*width^2*SIW # g\n",
    "    # Growth rule\n",
    "    rule = Rule(rbtree.Meristem, rhs = create_branching_rule(biomass, length, width))\n",
    "    axiom = T(origin) + rbtree.Internode(biomass, length, width, mat()) + rbtree.Meristem()\n",
    "    tree = Graph(axiom = axiom, rules = Tuple(rule), \n",
    "                 vars = rbtree.treeparams(0.0, RUE, SIW, biomass))\n",
    "    return tree\n",
    "end"
   ]
  },
  {
   "cell_type": "markdown",
   "metadata": {},
   "source": [
    "We can now create a forest of trees on a regular grid with random RUE values:"
   ]
  },
  {
   "cell_type": "code",
   "execution_count": null,
   "metadata": {
    "vscode": {
     "languageId": "julia"
    }
   },
   "outputs": [],
   "source": [
    "# Regular grid of trees 2 meters apart\n",
    "origins = [Vec(i,j,0) for i = 1:2.0:20.0, j = 1:2.0:20.0];\n",
    "Random.seed!(123456789)\n",
    "# Assume RUE follows a log-normal distribution wth low standard deviation\n",
    "RUE_distr(n) = exp.(randn(n)) .+ 15.0 # Unrealistic value to speed up simulation! \n",
    "RUEs = RUE_distr(length(origins))\n",
    "histogram(RUEs)\n",
    "# Create the forest\n",
    "forest = [create_tree(origins[i], RUEs[i]) for i in 1:100];"
   ]
  },
  {
   "cell_type": "markdown",
   "metadata": {},
   "source": [
    "As growth is now dependent on intercepted PAR via RUE, we now need to simulate\n",
    "light interception by the trees. We will use a ray-tracing approach to do so.\n",
    "The first step is to create a scene with the trees and the light sources. As for\n",
    "rendering, the scene can be created from the `forest` object by simply calling \n",
    "`Scene(forest)` that will generate the 3D meshes and connect them to their \n",
    "optical properties.\n",
    "\n",
    "However, we also want to add a soil surface as this will affect the light \n",
    "distribution within the scene due to reflection from the soil surface. This is\n",
    "similar to the customized scene that we created in the previous example. Note\n",
    "that the `soil_material` created below is stored in the scene but nowhere else.\n",
    "If we wanted to recover the irradiance absorbed by the soil tile later on, we \n",
    "would need to store this information somewhere else."
   ]
  },
  {
   "cell_type": "code",
   "execution_count": null,
   "metadata": {
    "vscode": {
     "languageId": "julia"
    }
   },
   "outputs": [],
   "source": [
    "function create_soil()\n",
    "    soil = Rectangle(length = 21.0, width = 21.0)\n",
    "    rotatey!(soil, π/2) # To put it in the XY plane\n",
    "    VPL.translate!(soil, Vec(0.0, 10.5, 0.0)) # Corner at (0,0,0)\n",
    "    return soil\n",
    "end\n",
    "function create_scene(forest)\n",
    "    # These are the trees\n",
    "    scene = Scene(forest)\n",
    "    # Add a soil surface\n",
    "    soil = create_soil()\n",
    "    soil_material = Lambertian(τ = (0.0, 0.0, 0.0),\n",
    "                               ρ = (0.21, 0.21, 0.21))\n",
    "    add!(scene, mesh = soil, material = soil_material)\n",
    "    # Return the scene\n",
    "    return scene\n",
    "end"
   ]
  },
  {
   "cell_type": "markdown",
   "metadata": {},
   "source": [
    "Given the scene, we can create the light sources that can approximate the solar\n",
    "irradiance on a given day, location and time of the day using the functions from\n",
    "the Sky package (see package documentation for details). Given the latitude,\n",
    "day of year and fraction of the day (`f = 0` being sunrise and `f = 1` being sunset),\n",
    "the function `clear_sky()` computes the direct and diffuse solar radiation assuming\n",
    "a clear sky. These values may be converted to different wavebands and units using\n",
    "`waveband_conversion()`. Finally, the collection of light sources approximating\n",
    "the solar irradiance distribution over the sky hemisphere is constructed with the\n",
    "function `sky()` (this last step requires the 3D scene as input in order to place\n",
    "the light sources adequately)."
   ]
  },
  {
   "cell_type": "code",
   "execution_count": null,
   "metadata": {
    "vscode": {
     "languageId": "julia"
    }
   },
   "outputs": [],
   "source": [
    "function create_sky(;scene, f, lat = 52.0*π/180.0, DOY = 182)\n",
    "    # Compute solar irradiance\n",
    "    Ig, Idir, Idif = clear_sky(lat = lat, DOY = DOY, f = f) # W/m2\n",
    "    # Conversion factors to red, green and blue for direct and diffuse irradiance\n",
    "    wavebands = (:blue, :green, :red)\n",
    "    f_dir = Tuple(waveband_conversion(Itype = :direct,  waveband = x, mode = :power) for x in wavebands)\n",
    "    f_dif = Tuple(waveband_conversion(Itype = :diffuse, waveband = x, mode = :power) for x in wavebands)\n",
    "    # Actual irradiance per waveband\n",
    "    Idir_color = Tuple(f_dir[i]*Idir for i in 1:3)\n",
    "    Idif_color = Tuple(f_dif[i]*Idif for i in 1:3)\n",
    "    # Create the light sources and assign number of rays\n",
    "    sources = sky(scene, \n",
    "                  Idir = Idir_color, # Direct solar radiation from above\n",
    "                  nrays_dir = 1_000_000, # Number of rays for direct solar radiation\n",
    "                  Idif = Idif_color, # Diffuse solar radiation from above\n",
    "                  nrays_dif = 1_000_000, # Total number of rays for diffuse solar radiation\n",
    "                  sky_model = StandardSky, # Angular distribution of solar radiation\n",
    "                  dome_method = equal_solid_angles, # Discretization of the sky dome\n",
    "                  ntheta = 9, # Number of discretization steps in the zenith angle \n",
    "                  nphi = 12) # Number of discretization steps in the azimuth angle\n",
    "    return sources\n",
    "end"
   ]
  },
  {
   "cell_type": "markdown",
   "metadata": {},
   "source": [
    "The 3D scene and the light sources are then combined into a `RayTracer` object,\n",
    "together with general settings for the ray tracing simulation chosen via `RTSettings()`.\n",
    "The most important settings refer to the Russian roulette system and the grid \n",
    "cloner (see section on Ray Tracing for details). The settings for the Russian\n",
    "roulette system include the number of times a ray will be traced\n",
    "deterministically (`maxiter`) and the probability that a ray that exceeds `maxiter`\n",
    "is terminated (`pkill`). The grid cloner is used to approximate an infinite canopy\n",
    "by replicating the scene in the different directions (`nx` and `ny` being the\n",
    "number of replicates in each direction along the x and y axes, respectively). It\n",
    "is also possible to turn on parallelization of the ray tracing simulation by\n",
    "setting `parallel = true` (currently this uses Julia's builtin multithreading\n",
    "capabilities). \n",
    "\n",
    "In addition `RTSettings()`, an acceleration structure and a splitting rule can\n",
    "be defined when creating the `RayTracer` object (see ray tracing documentation \n",
    "for details). The acceleration structure allows speeding up the ray tracing\n",
    "by avoiding testing all rays against all objects in the scene."
   ]
  },
  {
   "cell_type": "code",
   "execution_count": null,
   "metadata": {
    "vscode": {
     "languageId": "julia"
    }
   },
   "outputs": [],
   "source": [
    "function create_raytracer(scene, sources)\n",
    "    settings = RTSettings(pkill = 0.9, maxiter = 4, nx = 5, ny = 5, parallel = true)\n",
    "    RayTracer(scene, sources, settings = settings, acceleration = BVH,\n",
    "                     rule = SAH{6}(5, 10));\n",
    "end"
   ]
  },
  {
   "cell_type": "markdown",
   "metadata": {},
   "source": [
    "The actual ray tracing simulation is performed by calling the `trace!()` method\n",
    "on the ray tracing object. This will trace all rays from all light sources and\n",
    "update the radiant power absorbed by the different surfaces in the scene inside\n",
    "the `Material` objects (see `feedmaterial!()` above):"
   ]
  },
  {
   "cell_type": "code",
   "execution_count": null,
   "metadata": {
    "vscode": {
     "languageId": "julia"
    }
   },
   "outputs": [],
   "source": [
    "function run_raytracer!(forest; f = 0.5, DOY = 182)\n",
    "    scene   = create_scene(forest)\n",
    "    sources = create_sky(scene = scene, f = f, DOY = DOY)\n",
    "    rtobj   = create_raytracer(scene, sources)\n",
    "    trace!(rtobj)\n",
    "    return nothing\n",
    "end"
   ]
  },
  {
   "cell_type": "markdown",
   "metadata": {},
   "source": [
    "The total PAR absorbed for each tree is calculated from the material objects of\n",
    "the different internodes (using `power()` on the `Material` object). Note that\n",
    "the `power()` function returns three different values, one for each waveband,\n",
    "but they are added together as RUE is defined for total PAR.\n",
    "\n",
    "In most cases the relationship between absorbed PAR and growth is not linear and\n",
    "thus the process needs to be integrated over the day. That is not case here since\n",
    "we use an RUE constant, however the general scenario is shown for generality. For\n",
    "more complex models (e.g., where photosynthesis is computed for each organ) the\n",
    "`calculate_PAR!` function below would be replaced by a function that computes\n",
    "photosynthesis for each organ and then adds up to the tree level."
   ]
  },
  {
   "cell_type": "code",
   "execution_count": null,
   "metadata": {
    "vscode": {
     "languageId": "julia"
    }
   },
   "outputs": [],
   "source": [
    "getInternode = Query(rbtree.Internode)\n",
    "# Run the ray tracer, calculate PAR absorbed per tree and add it to the daily\n",
    "# total using general weighted quadrature formula\n",
    "function calculate_PAR!(forest; f = 0.5, w = 1.0, dt = 1.0, DOY = 182)\n",
    "    # Run the ray tracer\n",
    "    run_raytracer!(forest, f = f, DOY = DOY)\n",
    "    # Add up PAR absorbed by each tree and add to the tree variables\n",
    "    @threads for tree in forest\n",
    "        PAR = 0.0\n",
    "        for i in apply(tree, getInternode)\n",
    "            PAR += sum(power(i.material))\n",
    "        end\n",
    "        tree.vars.PAR += w*PAR*dt\n",
    "    end\n",
    "    return nothing\n",
    "end\n",
    "\n",
    "# Gaussian-Legendre integration of PAR absorbed over the day\n",
    "function daily_PAR!(forest; nsteps = 5, DOY = 182, lat = 52.0*π/180.0)\n",
    "    # Compute length of the day\n",
    "    dec = declination(DOY)\n",
    "    dl = day_length(lat, dec)\n",
    "    dt = dl # Gaussian integration generates a weighted average, so this is total daylength\n",
    "    # Generate nodes and weights for Gaussian-Legendre integration\n",
    "    nodes, weights = gausslegendre(nsteps)\n",
    "    ws   = weights./2 # Scale weights to add up to 1\n",
    "    fs   = 0.5 .+ nodes./2 # Scale nodes to [0,1]\n",
    "    # Integrate over the day\n",
    "    for i in 1:nsteps\n",
    "        calculate_PAR!(forest, f = fs[i], w = ws[i], dt = dt, DOY = DOY)\n",
    "    end\n",
    "    return nothing\n",
    "end\n",
    "\n",
    "# Reset PAR absorbed by the tree (at the start of a new day)\n",
    "function reset_PAR!(forest)\n",
    "    for tree in forest\n",
    "        tree.vars.PAR = 0.0\n",
    "    end\n",
    "    return nothing\n",
    "end"
   ]
  },
  {
   "cell_type": "markdown",
   "metadata": {},
   "source": [
    "Given the total daily PAR absorbed by each tree, it may be converted to biomass\n",
    "using the RUE. The growth function below is called at the end of each day and\n",
    "updates the dimensions of each internode inside a tree based on the new biomass,\n",
    "as well as add new organs to the tree by applying the graph rewriting rule."
   ]
  },
  {
   "cell_type": "code",
   "execution_count": null,
   "metadata": {
    "vscode": {
     "languageId": "julia"
    }
   },
   "outputs": [],
   "source": [
    "# Growth function\n",
    "function growth!(tree)\n",
    "    # Total growth based on RUE\n",
    "    growth = tree.vars.RUE*tree.vars.PAR/1e6\n",
    "    # Allocate growth to each organ and compute new dimensions\n",
    "    for i in apply(tree, getInternode)\n",
    "        biomass    = i.length*i.width^2*tree.vars.SIW\n",
    "        i.biomass += growth*i.biomass/tree.vars.Biomass # Simple allocation rule\n",
    "        volume     = i.biomass/tree.vars.SIW\n",
    "        i.length   = cbrt(100volume) # Assume width = length/10\n",
    "        i.width    = i.length/10\n",
    "    end\n",
    "    # Update total tree biomass\n",
    "    tree.vars.Biomass += growth\n",
    "    # Create new organs with the growth rule\n",
    "    rewrite!(tree)\n",
    "end"
   ]
  },
  {
   "cell_type": "markdown",
   "metadata": {},
   "source": [
    "Finally, all the pieces may be combined into a single function that simulates\n",
    "the daily steps of the model:"
   ]
  },
  {
   "cell_type": "code",
   "execution_count": null,
   "metadata": {
    "vscode": {
     "languageId": "julia"
    }
   },
   "outputs": [],
   "source": [
    "function daily_step!(forest, DOY)\n",
    "    # Reset PAR absorbed by the tree\n",
    "    reset_PAR!(forest)\n",
    "    # Integrate PAR absorbed over the day\n",
    "    daily_PAR!(forest, DOY = DOY)\n",
    "    # Update tree dimensions and add new organs\n",
    "    @threads for tree in forest\n",
    "        growth!(tree)\n",
    "    end\n",
    "end"
   ]
  },
  {
   "cell_type": "markdown",
   "metadata": {},
   "source": [
    "We can create a function for rendering the forest in combination with the soil:"
   ]
  },
  {
   "cell_type": "code",
   "execution_count": null,
   "metadata": {
    "vscode": {
     "languageId": "julia"
    }
   },
   "outputs": [],
   "source": [
    "function render_forest(forest)\n",
    "    # Plot the forest\n",
    "    display(render(forest, axes = false, backend = \"web\"))\n",
    "    # Generate the soil and add it\n",
    "    soil = create_soil()\n",
    "    render!(soil, color = RGB(1.0,1.0,0.5))\n",
    "end"
   ]
  },
  {
   "cell_type": "markdown",
   "metadata": {},
   "source": [
    "We can now simulate and visualize the growth of the forest by calling the \n",
    "`daily_step!` function iteratively:\n"
   ]
  },
  {
   "cell_type": "code",
   "execution_count": null,
   "metadata": {
    "vscode": {
     "languageId": "julia"
    }
   },
   "outputs": [],
   "source": [
    "newforest = deepcopy(forest)\n",
    "start = 182\n",
    "render_forest(forest)\n",
    "for i in 1:3\n",
    "    println(\"Day $i\")\n",
    "    daily_step!(newforest, start + i)\n",
    "end\n",
    "render_forest(newforest)"
   ]
  },
  {
   "cell_type": "code",
   "execution_count": null,
   "metadata": {},
   "outputs": [],
   "source": []
  }
 ],
 "metadata": {
  "kernelspec": {
   "display_name": "Julia 1.8.5",
   "language": "julia",
   "name": "julia-1.8"
  },
  "language_info": {
   "file_extension": ".jl",
   "mimetype": "application/julia",
   "name": "julia",
   "version": "1.8.5"
  }
 },
 "nbformat": 4,
 "nbformat_minor": 4
}
