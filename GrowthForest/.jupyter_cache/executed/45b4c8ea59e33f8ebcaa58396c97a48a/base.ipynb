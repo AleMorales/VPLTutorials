{
 "cells": [
  {
   "cell_type": "code",
   "execution_count": 1,
   "id": "0f359e17",
   "metadata": {},
   "outputs": [],
   "source": [
    "import IJulia\n",
    "\n",
    "# The julia kernel has built in support for Revise.jl, so this is the \n",
    "# recommended approach for long-running sessions:\n",
    "# https://github.com/JuliaLang/IJulia.jl/blob/9b10fa9b879574bbf720f5285029e07758e50a5e/src/kernel.jl#L46-L51\n",
    "\n",
    "# Users should enable revise within .julia/config/startup_ijulia.jl:\n",
    "# https://timholy.github.io/Revise.jl/stable/config/#Using-Revise-automatically-within-Jupyter/IJulia-1\n",
    "\n",
    "# clear console history\n",
    "IJulia.clear_history()\n",
    "\n",
    "fig_width = 7\n",
    "fig_height = 5\n",
    "fig_format = :retina\n",
    "fig_dpi = 96\n",
    "\n",
    "# no retina format type, use svg for high quality type/marks\n",
    "if fig_format == :retina\n",
    "  fig_format = :svg\n",
    "elseif fig_format == :pdf\n",
    "  fig_dpi = 96\n",
    "  # Enable PDF support for IJulia\n",
    "  IJulia.register_mime(MIME(\"application/pdf\"))\n",
    "end\n",
    "\n",
    "# convert inches to pixels\n",
    "fig_width = fig_width * fig_dpi\n",
    "fig_height = fig_height * fig_dpi\n",
    "\n",
    "# Intialize Plots w/ default fig width/height\n",
    "try\n",
    "  import Plots\n",
    "\n",
    "  # Plots.jl doesn't support PDF output for versions < 1.28.1\n",
    "  # so use png (if the DPI remains the default of 300 then set to 96)\n",
    "  if (Plots._current_plots_version < v\"1.28.1\") & (fig_format == :pdf)\n",
    "    Plots.gr(size=(fig_width, fig_height), fmt = :png, dpi = fig_dpi)\n",
    "  else\n",
    "    Plots.gr(size=(fig_width, fig_height), fmt = fig_format, dpi = fig_dpi)\n",
    "  end\n",
    "catch e\n",
    "  # @warn \"Plots init\" exception=(e, catch_backtrace())\n",
    "end\n",
    "\n",
    "# Initialize CairoMakie with default fig width/height\n",
    "try\n",
    "  import CairoMakie\n",
    "  \n",
    "  CairoMakie.activate!(type = string(fig_format))\n",
    "  CairoMakie.update_theme!(resolution=(fig_width, fig_height))\n",
    "catch e\n",
    "    # @warn \"CairoMakie init\" exception=(e, catch_backtrace())\n",
    "end\n",
    "  \n",
    "# Set run_path if specified\n",
    "try\n",
    "  run_path = raw\"C:\\Users\\moral\\Dropbox\\Panda\\WORK\\Research\\FSPM\\Virtual_Plant_Laboratory\\Julia\\VPLsite\\tutorials\\raytraced_binary_forest\"\n",
    "  if !isempty(run_path)\n",
    "    cd(run_path)\n",
    "  end\n",
    "catch e\n",
    "  @warn \"Run path init:\" exception=(e, catch_backtrace())\n",
    "end\n",
    "\n",
    "\n",
    "# emulate old Pkg.installed beahvior, see\n",
    "# https://discourse.julialang.org/t/how-to-use-pkg-dependencies-instead-of-pkg-installed/36416/9\n",
    "import Pkg\n",
    "function isinstalled(pkg::String)\n",
    "  any(x -> x.name == pkg && x.is_direct_dep, values(Pkg.dependencies()))\n",
    "end\n",
    "\n",
    "# ojs_define\n",
    "if isinstalled(\"JSON\") && isinstalled(\"DataFrames\")\n",
    "  import JSON, DataFrames\n",
    "  global function ojs_define(; kwargs...)\n",
    "    convert(x) = x\n",
    "    convert(x::DataFrames.AbstractDataFrame) = Tables.rows(x)\n",
    "    content = Dict(\"contents\" => [Dict(\"name\" => k, \"value\" => convert(v)) for (k, v) in kwargs])\n",
    "    tag = \"<script type='ojs-define'>$(JSON.json(content))</script>\"\n",
    "    IJulia.display(MIME(\"text/html\"), tag)\n",
    "  end\n",
    "elseif isinstalled(\"JSON\")\n",
    "  import JSON\n",
    "  global function ojs_define(; kwargs...)\n",
    "    content = Dict(\"contents\" => [Dict(\"name\" => k, \"value\" => v) for (k, v) in kwargs])\n",
    "    tag = \"<script type='ojs-define'>$(JSON.json(content))</script>\"\n",
    "    IJulia.display(MIME(\"text/html\"), tag)\n",
    "  end\n",
    "else\n",
    "  global function ojs_define(; kwargs...)\n",
    "    @warn \"JSON package not available. Please install the JSON.jl package to use ojs_define.\"\n",
    "  end\n",
    "end\n",
    "\n",
    "\n",
    "# don't return kernel dependencies (b/c Revise should take care of dependencies)\n",
    "nothing\n"
   ]
  },
  {
   "cell_type": "code",
   "execution_count": 2,
   "id": "cdc7c8ce",
   "metadata": {},
   "outputs": [],
   "source": [
    "using VPL\n",
    "using Base.Threads: @threads\n",
    "using Plots\n",
    "import Random\n",
    "using Sky\n",
    "using FastGaussQuadrature"
   ]
  },
  {
   "cell_type": "code",
   "execution_count": 3,
   "id": "cf1c24c5",
   "metadata": {},
   "outputs": [
    {
     "data": {
      "text/plain": [
       "Main.rbtree"
      ]
     },
     "execution_count": 3,
     "metadata": {},
     "output_type": "execute_result"
    }
   ],
   "source": [
    "module rbtree\n",
    "    using VPL\n",
    "    # Meristem\n",
    "    struct Meristem <: VPL.Node end\n",
    "    # Node\n",
    "    struct Node <: VPL.Node end\n",
    "    # Internode\n",
    "    mutable struct Internode <: VPL.Node\n",
    "        biomass::Float64\n",
    "        length::Float64\n",
    "        width::Float64\n",
    "        material::Lambertian{3} # Optical properties for 3 wavebands\n",
    "    end\n",
    "    # Tree-level variables\n",
    "    mutable struct treeparams\n",
    "        PAR::Float64     # Total PAR intercepted by the tree in a day\n",
    "        RUE::Float64     # Convert absorbed PAR to biomass growth\n",
    "        SIW::Float64     # Specific internode weight\n",
    "        Biomass::Float64 # Current total biomass\n",
    "    end\n",
    "end"
   ]
  },
  {
   "cell_type": "code",
   "execution_count": 4,
   "id": "632e2748",
   "metadata": {},
   "outputs": [],
   "source": [
    "# Turtle methods\n",
    "function VPL.feed!(turtle::Turtle, i::rbtree.Internode, vars)\n",
    "    HollowCube!(turtle, length = i.length, height =  i.width, width =  i.width, \n",
    "                move = true, color = RGB(0,0.35,0), material = i.material)\n",
    "    return nothing\n",
    "end"
   ]
  },
  {
   "cell_type": "code",
   "execution_count": 5,
   "id": "316d4205",
   "metadata": {},
   "outputs": [
    {
     "data": {
      "text/plain": [
       "create_branching_rule (generic function with 1 method)"
      ]
     },
     "execution_count": 5,
     "metadata": {},
     "output_type": "execute_result"
    }
   ],
   "source": [
    "# Create a new material object with the optical properties\n",
    "mat() = Lambertian(τ = (0.0, 0.0, 0.0), # transmittance for blue, green, red\n",
    "                   ρ = (0.05, 0.2, 0.1)) # reflectance for blue, green, red\n",
    "\n",
    "# Create right side of the growth rule (parameterized by initial values of the organ)\n",
    "function create_branching_rule(biomass, length, width)\n",
    "    mer -> begin\n",
    "        # New branches\n",
    "        branch1 = RU(-60.0) + rbtree.Internode(biomass, length, width, mat()) + RH(90.0) + rbtree.Meristem()\n",
    "        branch2 = RU(60.0)  + rbtree.Internode(biomass, length, width, mat()) + RH(90.0) + rbtree.Meristem()\n",
    "        # Sub-graph to be added to the tree\n",
    "        rbtree.Node() + (branch1, branch2)\n",
    "    end\n",
    "end"
   ]
  },
  {
   "cell_type": "code",
   "execution_count": 6,
   "id": "f16c09a4",
   "metadata": {},
   "outputs": [
    {
     "data": {
      "text/plain": [
       "create_tree (generic function with 1 method)"
      ]
     },
     "execution_count": 6,
     "metadata": {},
     "output_type": "execute_result"
    }
   ],
   "source": [
    "# Create a tree given the origin and RUE\n",
    "function create_tree(origin, RUE)\n",
    "    SIW    = 1e6 # g/m3 (typical wood density for a hardwood)\n",
    "    length = 0.5 # m\n",
    "    width  = 0.05 # m\n",
    "    biomass = length*width^2*SIW # g\n",
    "    # Growth rule\n",
    "    rule = Rule(rbtree.Meristem, rhs = create_branching_rule(biomass, length, width))\n",
    "    axiom = T(origin) + rbtree.Internode(biomass, length, width, mat()) + rbtree.Meristem()\n",
    "    tree = Graph(axiom = axiom, rules = Tuple(rule), \n",
    "                 vars = rbtree.treeparams(0.0, RUE, SIW, biomass))\n",
    "    return tree\n",
    "end"
   ]
  },
  {
   "cell_type": "code",
   "execution_count": 7,
   "id": "5fc0f295",
   "metadata": {},
   "outputs": [],
   "source": [
    "# Regular grid of trees 2 meters apart\n",
    "origins = [Vec(i,j,0) for i = 1:2.0:20.0, j = 1:2.0:20.0];\n",
    "Random.seed!(123456789)\n",
    "# Assume RUE follows a log-normal distribution wth low standard deviation\n",
    "RUE_distr(n) = exp.(randn(n)) .+ 15.0 # Unrealistic value to speed up simulation! \n",
    "RUEs = RUE_distr(length(origins))\n",
    "histogram(RUEs)\n",
    "# Create the forest\n",
    "forest = [create_tree(origins[i], RUEs[i]) for i in 1:100];"
   ]
  },
  {
   "cell_type": "code",
   "execution_count": 8,
   "id": "d3723c96",
   "metadata": {},
   "outputs": [
    {
     "data": {
      "text/plain": [
       "create_scene (generic function with 1 method)"
      ]
     },
     "execution_count": 8,
     "metadata": {},
     "output_type": "execute_result"
    }
   ],
   "source": [
    "function create_soil()\n",
    "    soil = Rectangle(length = 21.0, width = 21.0)\n",
    "    rotatey!(soil, π/2) # To put it in the XY plane\n",
    "    VPL.translate!(soil, Vec(0.0, 10.5, 0.0)) # Corner at (0,0,0)\n",
    "    return soil\n",
    "end\n",
    "function create_scene(forest)\n",
    "    # These are the trees\n",
    "    scene = Scene(forest)\n",
    "    # Add a soil surface\n",
    "    soil = create_soil()\n",
    "    soil_material = Lambertian(τ = (0.0, 0.0, 0.0),\n",
    "                               ρ = (0.21, 0.21, 0.21))\n",
    "    add!(scene, mesh = soil, material = soil_material)\n",
    "    # Return the scene\n",
    "    return scene\n",
    "end"
   ]
  },
  {
   "cell_type": "code",
   "execution_count": 9,
   "id": "cb3d9ff8",
   "metadata": {},
   "outputs": [
    {
     "data": {
      "text/plain": [
       "create_sky (generic function with 1 method)"
      ]
     },
     "execution_count": 9,
     "metadata": {},
     "output_type": "execute_result"
    }
   ],
   "source": [
    "function create_sky(;scene, f, lat = 52.0*π/180.0, DOY = 182)\n",
    "    # Compute solar irradiance\n",
    "    Ig, Idir, Idif = clear_sky(lat = lat, DOY = DOY, f = f) # W/m2\n",
    "    # Conversion factors to red, green and blue for direct and diffuse irradiance\n",
    "    wavebands = (:blue, :green, :red)\n",
    "    f_dir = Tuple(waveband_conversion(Itype = :direct,  waveband = x, mode = :power) for x in wavebands)\n",
    "    f_dif = Tuple(waveband_conversion(Itype = :diffuse, waveband = x, mode = :power) for x in wavebands)\n",
    "    # Actual irradiance per waveband\n",
    "    Idir_color = Tuple(f_dir[i]*Idir for i in 1:3)\n",
    "    Idif_color = Tuple(f_dif[i]*Idif for i in 1:3)\n",
    "    # Create the light sources and assign number of rays\n",
    "    sources = sky(scene, \n",
    "                  Idir = Idir_color, # Direct solar radiation from above\n",
    "                  nrays_dir = 1_000_000, # Number of rays for direct solar radiation\n",
    "                  Idif = Idif_color, # Diffuse solar radiation from above\n",
    "                  nrays_dif = 1_000_000, # Total number of rays for diffuse solar radiation\n",
    "                  sky_model = StandardSky, # Angular distribution of solar radiation\n",
    "                  dome_method = equal_solid_angles, # Discretization of the sky dome\n",
    "                  ntheta = 9, # Number of discretization steps in the zenith angle \n",
    "                  nphi = 12) # Number of discretization steps in the azimuth angle\n",
    "    return sources\n",
    "end"
   ]
  },
  {
   "cell_type": "code",
   "execution_count": 10,
   "id": "304f25f7",
   "metadata": {},
   "outputs": [
    {
     "data": {
      "text/plain": [
       "create_raytracer (generic function with 1 method)"
      ]
     },
     "execution_count": 10,
     "metadata": {},
     "output_type": "execute_result"
    }
   ],
   "source": [
    "function create_raytracer(scene, sources)\n",
    "    settings = RTSettings(pkill = 0.9, maxiter = 4, nx = 5, ny = 5, parallel = true)\n",
    "    RayTracer(scene, sources, settings = settings, acceleration = BVH,\n",
    "                     rule = SAH{6}(5, 10));\n",
    "end"
   ]
  },
  {
   "cell_type": "code",
   "execution_count": 11,
   "id": "ca16c3eb",
   "metadata": {},
   "outputs": [
    {
     "data": {
      "text/plain": [
       "run_raytracer! (generic function with 1 method)"
      ]
     },
     "execution_count": 11,
     "metadata": {},
     "output_type": "execute_result"
    }
   ],
   "source": [
    "function run_raytracer!(forest; f = 0.5, DOY = 182)\n",
    "    scene   = create_scene(forest)\n",
    "    sources = create_sky(scene = scene, f = f, DOY = DOY)\n",
    "    rtobj   = create_raytracer(scene, sources)\n",
    "    trace!(rtobj)\n",
    "    return nothing\n",
    "end"
   ]
  },
  {
   "cell_type": "code",
   "execution_count": 12,
   "id": "649224d6",
   "metadata": {},
   "outputs": [
    {
     "data": {
      "text/plain": [
       "reset_PAR! (generic function with 1 method)"
      ]
     },
     "execution_count": 12,
     "metadata": {},
     "output_type": "execute_result"
    }
   ],
   "source": [
    "getInternode = Query(rbtree.Internode)\n",
    "# Run the ray tracer, calculate PAR absorbed per tree and add it to the daily\n",
    "# total using general weighted quadrature formula\n",
    "function calculate_PAR!(forest; f = 0.5, w = 1.0, dt = 1.0, DOY = 182)\n",
    "    # Run the ray tracer\n",
    "    run_raytracer!(forest, f = f, DOY = DOY)\n",
    "    # Add up PAR absorbed by each tree and add to the tree variables\n",
    "    @threads for tree in forest\n",
    "        PAR = 0.0\n",
    "        for i in apply(tree, getInternode)\n",
    "            PAR += sum(power(i.material))\n",
    "        end\n",
    "        tree.vars.PAR += w*PAR*dt\n",
    "    end\n",
    "    return nothing\n",
    "end\n",
    "\n",
    "# Gaussian-Legendre integration of PAR absorbed over the day\n",
    "function daily_PAR!(forest; nsteps = 5, DOY = 182, lat = 52.0*π/180.0)\n",
    "    # Compute length of the day\n",
    "    dec = declination(DOY)\n",
    "    dl = day_length(lat, dec)\n",
    "    dt = dl # Gaussian integration generates a weighted average, so this is total daylength\n",
    "    # Generate nodes and weights for Gaussian-Legendre integration\n",
    "    nodes, weights = gausslegendre(nsteps)\n",
    "    ws   = weights./2 # Scale weights to add up to 1\n",
    "    fs   = 0.5 .+ nodes./2 # Scale nodes to [0,1]\n",
    "    # Integrate over the day\n",
    "    for i in 1:nsteps\n",
    "        calculate_PAR!(forest, f = fs[i], w = ws[i], dt = dt, DOY = DOY)\n",
    "    end\n",
    "    return nothing\n",
    "end\n",
    "\n",
    "# Reset PAR absorbed by the tree (at the start of a new day)\n",
    "function reset_PAR!(forest)\n",
    "    for tree in forest\n",
    "        tree.vars.PAR = 0.0\n",
    "    end\n",
    "    return nothing\n",
    "end"
   ]
  },
  {
   "cell_type": "code",
   "execution_count": 13,
   "id": "e04342f7",
   "metadata": {},
   "outputs": [
    {
     "data": {
      "text/plain": [
       "growth! (generic function with 1 method)"
      ]
     },
     "execution_count": 13,
     "metadata": {},
     "output_type": "execute_result"
    }
   ],
   "source": [
    "# Growth function\n",
    "function growth!(tree)\n",
    "    # Total growth based on RUE\n",
    "    growth = tree.vars.RUE*tree.vars.PAR/1e6\n",
    "    # Allocate growth to each organ and compute new dimensions\n",
    "    for i in apply(tree, getInternode)\n",
    "        biomass    = i.length*i.width^2*tree.vars.SIW\n",
    "        i.biomass += growth*i.biomass/tree.vars.Biomass # Simple allocation rule\n",
    "        volume     = i.biomass/tree.vars.SIW\n",
    "        i.length   = cbrt(100volume) # Assume width = length/10\n",
    "        i.width    = i.length/10\n",
    "    end\n",
    "    # Update total tree biomass\n",
    "    tree.vars.Biomass += growth\n",
    "    # Create new organs with the growth rule\n",
    "    rewrite!(tree)\n",
    "end"
   ]
  },
  {
   "cell_type": "code",
   "execution_count": 14,
   "id": "ec79312f",
   "metadata": {},
   "outputs": [
    {
     "data": {
      "text/plain": [
       "daily_step! (generic function with 1 method)"
      ]
     },
     "execution_count": 14,
     "metadata": {},
     "output_type": "execute_result"
    }
   ],
   "source": [
    "function daily_step!(forest, DOY)\n",
    "    # Reset PAR absorbed by the tree\n",
    "    reset_PAR!(forest)\n",
    "    # Integrate PAR absorbed over the day\n",
    "    daily_PAR!(forest, DOY = DOY)\n",
    "    # Update tree dimensions and add new organs\n",
    "    @threads for tree in forest\n",
    "        growth!(tree)\n",
    "    end\n",
    "end"
   ]
  },
  {
   "cell_type": "code",
   "execution_count": 15,
   "id": "42d8bd13",
   "metadata": {},
   "outputs": [
    {
     "data": {
      "text/plain": [
       "render_forest (generic function with 1 method)"
      ]
     },
     "execution_count": 15,
     "metadata": {},
     "output_type": "execute_result"
    }
   ],
   "source": [
    "function render_forest(forest)\n",
    "    # Plot the forest\n",
    "    display(render(forest, axes = false))\n",
    "    # Generate the soil and add it\n",
    "    soil = create_soil()\n",
    "    render!(soil, color = RGB(1.0,1.0,0.5))\n",
    "end"
   ]
  },
  {
   "cell_type": "code",
   "execution_count": 16,
   "id": "316e979c",
   "metadata": {},
   "outputs": [],
   "source": [
    "#| eval: false\n",
    "newforest = deepcopy(forest)\n",
    "start = 182\n",
    "render_forest(forest)\n",
    "for i in 1:3\n",
    "    println(\"Day $i\")\n",
    "    daily_step!(newforest, start + i)\n",
    "    render_forest(newforest)\n",
    "end"
   ]
  }
 ],
 "metadata": {
  "kernelspec": {
   "display_name": "Julia 1.8.5",
   "language": "julia",
   "name": "julia-1.8"
  },
  "language_info": {
   "file_extension": ".jl",
   "mimetype": "application/julia",
   "name": "julia",
   "version": "1.8.5"
  }
 },
 "nbformat": 4,
 "nbformat_minor": 5
}